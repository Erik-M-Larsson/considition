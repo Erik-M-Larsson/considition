{
 "cells": [
  {
   "cell_type": "code",
   "execution_count": null,
   "source": [
    "import matplotlib.pyplot as plt\r\n",
    "import numpy as np\r\n",
    "from mpl_toolkits.mplot3d import Axes3D\r\n",
    "\r\n",
    "# Plot figure\r\n",
    "fig = plt.figure()\r\n",
    "ax = plt.subplot(111)\r\n",
    "ax.plot(1,1)"
   ],
   "outputs": [],
   "metadata": {}
  },
  {
   "cell_type": "code",
   "execution_count": null,
   "source": [
    "from greedy_solver import GreedySolver \r\n",
    "\r\n",
    "game_info= {\r\n",
    "  \"mapName\": \"EL 1\",\r\n",
    "  \"vehicle\": {\r\n",
    "    \"length\": 200,\r\n",
    "    \"width\": 120,\r\n",
    "    \"height\": 180\r\n",
    "  },\r\n",
    "  \"dimensions\": [\r\n",
    "    {\r\n",
    "      \"id\": 0,\r\n",
    "      \"width\": 35,\r\n",
    "      \"length\": 50,\r\n",
    "      \"height\": 28,\r\n",
    "      \"weightClass\": 2,\r\n",
    "      \"orderClass\": 1\r\n",
    "    },{\r\n",
    "      \"id\": 1,\r\n",
    "      \"width\": 15,\r\n",
    "      \"length\": 25,\r\n",
    "      \"height\": 10,\r\n",
    "      \"weightClass\": 1,\r\n",
    "      \"orderClass\": 1\r\n",
    "    }\r\n",
    "  ]\r\n",
    "}\r\n",
    "\r\n",
    "try: \r\n",
    "    solution.clear()\r\n",
    "except:\r\n",
    "    pass\r\n",
    "\r\n",
    "greedy = GreedySolver(game_info)\r\n",
    "solution = greedy.Solve()\t\r\n",
    "\r\n",
    "print(len(solution))\r\n",
    "for s in solution:\r\n",
    "    print(s, end = '\\n\\n')"
   ],
   "outputs": [],
   "metadata": {}
  },
  {
   "cell_type": "code",
   "execution_count": null,
   "source": [
    "print(solution)"
   ],
   "outputs": [],
   "metadata": {}
  },
  {
   "cell_type": "code",
   "execution_count": null,
   "source": [
    "p={'id': 39, 'x1': 147, 'x2': 147, 'x3': 147, 'x4': 147, 'x5': 185, 'x6': 185, 'x7': 185, 'x8': 185, 'y1': 100, 'y2': 100, 'y3': 100, 'y4': 100, 'y5': 122, 'y6': 122, 'y7': 122, 'y8': 122, 'z1': 37, 'z2': 37, 'z3': 37, 'z4': 37, 'z5': 52, 'z6': 52, 'z7': 52, 'z8': 52, 'weightClass': 2, 'orderClass': 2}\r\n",
    "print(p['x5']-p['x1'], p['y5']-p['y1'], p['z5']-p['z1'])"
   ],
   "outputs": [],
   "metadata": {}
  },
  {
   "cell_type": "code",
   "execution_count": 5,
   "source": [
    "import numpy as np\r\n",
    "\r\n",
    "a = np.ones((10,8,5), np.int8)\r\n",
    "\r\n",
    "#a[10,8,5] = 5.1\r\n",
    "\r\n",
    "\r\n",
    "a[0:9, 0:5, 0] = 0\r\n",
    "\r\n",
    "print(a)\r\n"
   ],
   "outputs": [
    {
     "output_type": "stream",
     "name": "stdout",
     "text": [
      "[[[0 1 1 1 1]\n",
      "  [0 1 1 1 1]\n",
      "  [0 1 1 1 1]\n",
      "  [0 1 1 1 1]\n",
      "  [0 1 1 1 1]\n",
      "  [1 1 1 1 1]\n",
      "  [1 1 1 1 1]\n",
      "  [1 1 1 1 1]]\n",
      "\n",
      " [[0 1 1 1 1]\n",
      "  [0 1 1 1 1]\n",
      "  [0 1 1 1 1]\n",
      "  [0 1 1 1 1]\n",
      "  [0 1 1 1 1]\n",
      "  [1 1 1 1 1]\n",
      "  [1 1 1 1 1]\n",
      "  [1 1 1 1 1]]\n",
      "\n",
      " [[0 1 1 1 1]\n",
      "  [0 1 1 1 1]\n",
      "  [0 1 1 1 1]\n",
      "  [0 1 1 1 1]\n",
      "  [0 1 1 1 1]\n",
      "  [1 1 1 1 1]\n",
      "  [1 1 1 1 1]\n",
      "  [1 1 1 1 1]]\n",
      "\n",
      " [[0 1 1 1 1]\n",
      "  [0 1 1 1 1]\n",
      "  [0 1 1 1 1]\n",
      "  [0 1 1 1 1]\n",
      "  [0 1 1 1 1]\n",
      "  [1 1 1 1 1]\n",
      "  [1 1 1 1 1]\n",
      "  [1 1 1 1 1]]\n",
      "\n",
      " [[0 1 1 1 1]\n",
      "  [0 1 1 1 1]\n",
      "  [0 1 1 1 1]\n",
      "  [0 1 1 1 1]\n",
      "  [0 1 1 1 1]\n",
      "  [1 1 1 1 1]\n",
      "  [1 1 1 1 1]\n",
      "  [1 1 1 1 1]]\n",
      "\n",
      " [[0 1 1 1 1]\n",
      "  [0 1 1 1 1]\n",
      "  [0 1 1 1 1]\n",
      "  [0 1 1 1 1]\n",
      "  [0 1 1 1 1]\n",
      "  [1 1 1 1 1]\n",
      "  [1 1 1 1 1]\n",
      "  [1 1 1 1 1]]\n",
      "\n",
      " [[0 1 1 1 1]\n",
      "  [0 1 1 1 1]\n",
      "  [0 1 1 1 1]\n",
      "  [0 1 1 1 1]\n",
      "  [0 1 1 1 1]\n",
      "  [1 1 1 1 1]\n",
      "  [1 1 1 1 1]\n",
      "  [1 1 1 1 1]]\n",
      "\n",
      " [[0 1 1 1 1]\n",
      "  [0 1 1 1 1]\n",
      "  [0 1 1 1 1]\n",
      "  [0 1 1 1 1]\n",
      "  [0 1 1 1 1]\n",
      "  [1 1 1 1 1]\n",
      "  [1 1 1 1 1]\n",
      "  [1 1 1 1 1]]\n",
      "\n",
      " [[0 1 1 1 1]\n",
      "  [0 1 1 1 1]\n",
      "  [0 1 1 1 1]\n",
      "  [0 1 1 1 1]\n",
      "  [0 1 1 1 1]\n",
      "  [1 1 1 1 1]\n",
      "  [1 1 1 1 1]\n",
      "  [1 1 1 1 1]]\n",
      "\n",
      " [[1 1 1 1 1]\n",
      "  [1 1 1 1 1]\n",
      "  [1 1 1 1 1]\n",
      "  [1 1 1 1 1]\n",
      "  [1 1 1 1 1]\n",
      "  [1 1 1 1 1]\n",
      "  [1 1 1 1 1]\n",
      "  [1 1 1 1 1]]]\n"
     ]
    }
   ],
   "metadata": {}
  },
  {
   "cell_type": "code",
   "execution_count": null,
   "source": [
    "print(type(2))"
   ],
   "outputs": [],
   "metadata": {}
  },
  {
   "cell_type": "code",
   "execution_count": null,
   "source": [
    "from itertools import permutations\r\n",
    "\r\n",
    "for combo in permutations([0, 1, 2], 3):  # 2 for pairs, 3 for triplets, etc\r\n",
    "    print(combo)"
   ],
   "outputs": [],
   "metadata": {}
  },
  {
   "cell_type": "code",
   "execution_count": 2,
   "source": [
    "from itertools import islice\r\n",
    "\r\n",
    "lista = iter(['a', 'b', 'c', 'd', 'e', 'f', 'g'])\r\n",
    "\r\n",
    "for l in lista:\r\n",
    "    \r\n",
    "    if l == 'c':\r\n",
    "        next(islice(lista, 3, 3), None)    \r\n",
    "    print (l)\r\n",
    "\r\n"
   ],
   "outputs": [
    {
     "output_type": "stream",
     "name": "stdout",
     "text": [
      "a\n",
      "b\n",
      "c\n",
      "g\n"
     ]
    }
   ],
   "metadata": {}
  },
  {
   "cell_type": "code",
   "execution_count": 4,
   "source": [
    "import timeit\r\n",
    "\r\n",
    "start = timeit.default_timer()\r\n",
    "\r\n",
    "for i in range(10000):\r\n",
    "    pass\r\n",
    "\r\n",
    "medel = timeit.default_timer()\r\n",
    "\r\n",
    "for i in range(10000):\r\n",
    "    pass\r\n",
    "\r\n",
    "stop = timeit.default_timer()\r\n",
    "\r\n",
    "print(start, medel, stop)"
   ],
   "outputs": [
    {
     "output_type": "stream",
     "name": "stdout",
     "text": [
      "8996.7125561 8996.7129726 8996.713354\n"
     ]
    }
   ],
   "metadata": {}
  },
  {
   "cell_type": "code",
   "execution_count": 9,
   "source": [
    "import numpy as np\r\n",
    "\r\n",
    "set(np.array(3, 5))"
   ],
   "outputs": [
    {
     "output_type": "error",
     "ename": "TypeError",
     "evalue": "Cannot interpret '5' as a data type",
     "traceback": [
      "\u001b[1;31m---------------------------------------------------------------------------\u001b[0m",
      "\u001b[1;31mTypeError\u001b[0m                                 Traceback (most recent call last)",
      "\u001b[1;32mC:\\Users\\ERIKLA~1\\AppData\\Local\\Temp/ipykernel_25964/3668272573.py\u001b[0m in \u001b[0;36m<module>\u001b[1;34m\u001b[0m\n\u001b[0;32m      1\u001b[0m \u001b[1;32mimport\u001b[0m \u001b[0mnumpy\u001b[0m \u001b[1;32mas\u001b[0m \u001b[0mnp\u001b[0m\u001b[1;33m\u001b[0m\u001b[1;33m\u001b[0m\u001b[0m\n\u001b[0;32m      2\u001b[0m \u001b[1;33m\u001b[0m\u001b[0m\n\u001b[1;32m----> 3\u001b[1;33m \u001b[0mset\u001b[0m\u001b[1;33m(\u001b[0m\u001b[0mnp\u001b[0m\u001b[1;33m.\u001b[0m\u001b[0marray\u001b[0m\u001b[1;33m(\u001b[0m\u001b[1;36m3\u001b[0m\u001b[1;33m,\u001b[0m \u001b[1;36m5\u001b[0m\u001b[1;33m)\u001b[0m\u001b[1;33m)\u001b[0m\u001b[1;33m\u001b[0m\u001b[1;33m\u001b[0m\u001b[0m\n\u001b[0m",
      "\u001b[1;31mTypeError\u001b[0m: Cannot interpret '5' as a data type"
     ]
    }
   ],
   "metadata": {}
  }
 ],
 "metadata": {
  "orig_nbformat": 4,
  "language_info": {
   "name": "python",
   "version": "3.9.7",
   "mimetype": "text/x-python",
   "codemirror_mode": {
    "name": "ipython",
    "version": 3
   },
   "pygments_lexer": "ipython3",
   "nbconvert_exporter": "python",
   "file_extension": ".py"
  },
  "kernelspec": {
   "name": "python3",
   "display_name": "Python 3.9.7 64-bit ('python-programming-Erik-Larsson-ctfcgb4Z': pipenv)"
  },
  "interpreter": {
   "hash": "f478fc9176ae27b1fcbca8069f8c2be4be0c1bc7299e1ed03f2b6fc59f3faf8f"
  }
 },
 "nbformat": 4,
 "nbformat_minor": 2
}