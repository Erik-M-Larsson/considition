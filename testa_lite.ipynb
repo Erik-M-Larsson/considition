{
 "cells": [
  {
   "cell_type": "code",
   "execution_count": null,
   "source": [
    "import matplotlib.pyplot as plt\r\n",
    "import numpy as np\r\n",
    "from mpl_toolkits.mplot3d import Axes3D\r\n",
    "\r\n",
    "# Plot figure\r\n",
    "fig = plt.figure()\r\n",
    "ax = plt.subplot(111)\r\n",
    "ax.plot(1,1)"
   ],
   "outputs": [],
   "metadata": {}
  },
  {
   "cell_type": "code",
   "execution_count": 1,
   "source": [
    "from greedy_solver import GreedySolver \r\n",
    "\r\n",
    "game_info= {\r\n",
    "  \"mapName\": \"EL 1\",\r\n",
    "  \"vehicle\": {\r\n",
    "    \"length\": 200,\r\n",
    "    \"width\": 120,\r\n",
    "    \"height\": 180\r\n",
    "  },\r\n",
    "  \"dimensions\": [\r\n",
    "    {\r\n",
    "      \"id\": 0,\r\n",
    "      \"width\": 35,\r\n",
    "      \"length\": 50,\r\n",
    "      \"height\": 28,\r\n",
    "      \"weightClass\": 2,\r\n",
    "      \"orderClass\": 1\r\n",
    "    },{\r\n",
    "      \"id\": 1,\r\n",
    "      \"width\": 15,\r\n",
    "      \"length\": 25,\r\n",
    "      \"height\": 10,\r\n",
    "      \"weightClass\": 1,\r\n",
    "      \"orderClass\": 1\r\n",
    "    }\r\n",
    "  ]\r\n",
    "}\r\n",
    "\r\n",
    "try: \r\n",
    "    solution.clear()\r\n",
    "except:\r\n",
    "    pass\r\n",
    "\r\n",
    "greedy = GreedySolver(game_info)\r\n",
    "solution = greedy.Solve()\t\r\n",
    "\r\n",
    "print(len(solution))\r\n",
    "for s in solution:\r\n",
    "    print(s, end = '\\n\\n')"
   ],
   "outputs": [
    {
     "output_type": "stream",
     "name": "stdout",
     "text": [
      "[{'area': 1750, 'id': 0}]\n",
      "[{'area': 375, 'id': 1}]\n"
     ]
    },
    {
     "output_type": "error",
     "ename": "IndexError",
     "evalue": "pop from empty list",
     "traceback": [
      "\u001b[1;31m---------------------------------------------------------------------------\u001b[0m",
      "\u001b[1;31mIndexError\u001b[0m                                Traceback (most recent call last)",
      "\u001b[1;32mC:\\Users\\ERIKLA~1\\AppData\\Local\\Temp/ipykernel_3844/1779292934.py\u001b[0m in \u001b[0;36m<module>\u001b[1;34m\u001b[0m\n\u001b[0;32m     33\u001b[0m \u001b[1;33m\u001b[0m\u001b[0m\n\u001b[0;32m     34\u001b[0m \u001b[0mgreedy\u001b[0m \u001b[1;33m=\u001b[0m \u001b[0mGreedySolver\u001b[0m\u001b[1;33m(\u001b[0m\u001b[0mgame_info\u001b[0m\u001b[1;33m)\u001b[0m\u001b[1;33m\u001b[0m\u001b[1;33m\u001b[0m\u001b[0m\n\u001b[1;32m---> 35\u001b[1;33m \u001b[0msolution\u001b[0m \u001b[1;33m=\u001b[0m \u001b[0mgreedy\u001b[0m\u001b[1;33m.\u001b[0m\u001b[0mSolve\u001b[0m\u001b[1;33m(\u001b[0m\u001b[1;33m)\u001b[0m\u001b[1;33m\u001b[0m\u001b[1;33m\u001b[0m\u001b[0m\n\u001b[0m\u001b[0;32m     36\u001b[0m \u001b[1;33m\u001b[0m\u001b[0m\n\u001b[0;32m     37\u001b[0m \u001b[0mprint\u001b[0m\u001b[1;33m(\u001b[0m\u001b[0mlen\u001b[0m\u001b[1;33m(\u001b[0m\u001b[0msolution\u001b[0m\u001b[1;33m)\u001b[0m\u001b[1;33m)\u001b[0m\u001b[1;33m\u001b[0m\u001b[1;33m\u001b[0m\u001b[0m\n",
      "\u001b[1;32mc:\\Users\\ErikLarsson-AIU21GBG\\Documents\\GitHub\\considition\\greedy_solver.py\u001b[0m in \u001b[0;36mSolve\u001b[1;34m(self)\u001b[0m\n\u001b[0;32m     41\u001b[0m         \u001b[1;32mfor\u001b[0m \u001b[0mp\u001b[0m \u001b[1;32min\u001b[0m \u001b[0mself\u001b[0m\u001b[1;33m.\u001b[0m\u001b[0mpackages\u001b[0m\u001b[1;33m:\u001b[0m\u001b[1;33m\u001b[0m\u001b[1;33m\u001b[0m\u001b[0m\n\u001b[0;32m     42\u001b[0m             \u001b[1;32mif\u001b[0m\u001b[1;33m(\u001b[0m\u001b[0mself\u001b[0m\u001b[1;33m.\u001b[0m\u001b[0mzp\u001b[0m \u001b[1;33m<=\u001b[0m \u001b[0mself\u001b[0m\u001b[1;33m.\u001b[0m\u001b[0mlastKnownMaxHeight\u001b[0m\u001b[1;33m)\u001b[0m\u001b[1;33m:\u001b[0m\u001b[1;33m\u001b[0m\u001b[1;33m\u001b[0m\u001b[0m\n\u001b[1;32m---> 43\u001b[1;33m                 \u001b[0mid\u001b[0m \u001b[1;33m=\u001b[0m \u001b[0mself\u001b[0m\u001b[1;33m.\u001b[0m\u001b[0mheavyPackages\u001b[0m\u001b[1;33m.\u001b[0m\u001b[0mpop\u001b[0m\u001b[1;33m(\u001b[0m\u001b[1;33m)\u001b[0m\u001b[1;33m[\u001b[0m\u001b[1;34m\"id\"\u001b[0m\u001b[1;33m]\u001b[0m\u001b[1;33m\u001b[0m\u001b[1;33m\u001b[0m\u001b[0m\n\u001b[0m\u001b[0;32m     44\u001b[0m                 \u001b[0mpackage\u001b[0m \u001b[1;33m=\u001b[0m \u001b[0mself\u001b[0m\u001b[1;33m.\u001b[0m\u001b[0mpackages\u001b[0m\u001b[1;33m[\u001b[0m\u001b[0mid\u001b[0m\u001b[1;33m]\u001b[0m\u001b[1;33m\u001b[0m\u001b[1;33m\u001b[0m\u001b[0m\n\u001b[0;32m     45\u001b[0m             \u001b[1;32melif\u001b[0m\u001b[1;33m(\u001b[0m\u001b[0mlen\u001b[0m\u001b[1;33m(\u001b[0m\u001b[0mself\u001b[0m\u001b[1;33m.\u001b[0m\u001b[0motherPackages\u001b[0m\u001b[1;33m)\u001b[0m \u001b[1;33m!=\u001b[0m \u001b[1;36m0\u001b[0m\u001b[1;33m)\u001b[0m\u001b[1;33m:\u001b[0m\u001b[1;33m\u001b[0m\u001b[1;33m\u001b[0m\u001b[0m\n",
      "\u001b[1;31mIndexError\u001b[0m: pop from empty list"
     ]
    }
   ],
   "metadata": {}
  },
  {
   "cell_type": "code",
   "execution_count": 35,
   "source": [
    "print(solution)"
   ],
   "outputs": [
    {
     "output_type": "stream",
     "name": "stdout",
     "text": [
      "[{'id': 0, 'x1': 0, 'x2': 0, 'x3': 0, 'x4': 0, 'x5': 50, 'x6': 50, 'x7': 50, 'x8': 50, 'y1': 0, 'y2': 0, 'y3': 0, 'y4': 0, 'y5': 35, 'y6': 35, 'y7': 35, 'y8': 35, 'z1': 0, 'z2': 0, 'z3': 0, 'z4': 0, 'z5': 28, 'z6': 28, 'z7': 28, 'z8': 28, 'weightClass': 2, 'orderClass': 1}, {'id': 0, 'x1': 0, 'x2': 0, 'x3': 0, 'x4': 0, 'x5': 50, 'x6': 50, 'x7': 50, 'x8': 50, 'y1': 0, 'y2': 0, 'y3': 0, 'y4': 0, 'y5': 35, 'y6': 35, 'y7': 35, 'y8': 35, 'z1': 28, 'z2': 28, 'z3': 28, 'z4': 28, 'z5': 56, 'z6': 56, 'z7': 56, 'z8': 56, 'weightClass': 2, 'orderClass': 1}]\n"
     ]
    }
   ],
   "metadata": {}
  },
  {
   "cell_type": "code",
   "execution_count": 5,
   "source": [
    "p={'id': 39, 'x1': 147, 'x2': 147, 'x3': 147, 'x4': 147, 'x5': 185, 'x6': 185, 'x7': 185, 'x8': 185, 'y1': 100, 'y2': 100, 'y3': 100, 'y4': 100, 'y5': 122, 'y6': 122, 'y7': 122, 'y8': 122, 'z1': 37, 'z2': 37, 'z3': 37, 'z4': 37, 'z5': 52, 'z6': 52, 'z7': 52, 'z8': 52, 'weightClass': 2, 'orderClass': 2}\r\n",
    "print(p['x5']-p['x1'], p['y5']-p['y1'], p['z5']-p['z1'])"
   ],
   "outputs": [
    {
     "output_type": "stream",
     "name": "stdout",
     "text": [
      "38 22 15\n"
     ]
    }
   ],
   "metadata": {}
  },
  {
   "cell_type": "code",
   "execution_count": null,
   "source": [],
   "outputs": [],
   "metadata": {}
  }
 ],
 "metadata": {
  "orig_nbformat": 4,
  "language_info": {
   "name": "python",
   "version": "3.9.7",
   "mimetype": "text/x-python",
   "codemirror_mode": {
    "name": "ipython",
    "version": 3
   },
   "pygments_lexer": "ipython3",
   "nbconvert_exporter": "python",
   "file_extension": ".py"
  },
  "kernelspec": {
   "name": "python3",
   "display_name": "Python 3.9.7 64-bit ('python-programming-Erik-Larsson-ctfcgb4Z': pipenv)"
  },
  "interpreter": {
   "hash": "f478fc9176ae27b1fcbca8069f8c2be4be0c1bc7299e1ed03f2b6fc59f3faf8f"
  }
 },
 "nbformat": 4,
 "nbformat_minor": 2
}